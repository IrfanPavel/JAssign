{
  "nbformat": 4,
  "nbformat_minor": 0,
  "metadata": {
    "colab": {
      "provenance": [],
      "authorship_tag": "ABX9TyPuRDeWt4G/bvS74VCAldIk",
      "include_colab_link": true
    },
    "kernelspec": {
      "name": "python3",
      "display_name": "Python 3"
    },
    "language_info": {
      "name": "python"
    }
  },
  "cells": [
    {
      "cell_type": "markdown",
      "metadata": {
        "id": "view-in-github",
        "colab_type": "text"
      },
      "source": [
        "<a href=\"https://colab.research.google.com/github/IrfanPavel/Jassign/blob/main/Python_Advanced.ipynb\" target=\"_parent\"><img src=\"https://colab.research.google.com/assets/colab-badge.svg\" alt=\"Open In Colab\"/></a>"
      ]
    },
    {
      "cell_type": "markdown",
      "source": [
        "# **Lambda Functions**"
      ],
      "metadata": {
        "id": "9r3hA8O2KOWb"
      }
    },
    {
      "cell_type": "markdown",
      "source": [
        "# Lambda functions are small anonymous functions. A lambda function can take any number of arguments, but can only have one expression. Lambda functions are used along with built-in functions like filter(), map() etc. Lambda functions are used to implement functionality that can be represented in a single line of code."
      ],
      "metadata": {
        "id": "-wFl9yhYKQg4"
      }
    },
    {
      "cell_type": "code",
      "execution_count": null,
      "metadata": {
        "colab": {
          "base_uri": "https://localhost:8080/"
        },
        "id": "SFc3867nJTBZ",
        "outputId": "4f79c599-d441-4fee-8c9e-3d801c0e9515"
      },
      "outputs": [
        {
          "output_type": "stream",
          "name": "stdout",
          "text": [
            "10\n"
          ]
        }
      ],
      "source": [
        "# lambda arguments : expression\n",
        "double = lambda x: x * 2\n",
        "print(double(5)) # 10"
      ]
    },
    {
      "cell_type": "markdown",
      "source": [
        "# **Map**"
      ],
      "metadata": {
        "id": "tOgwyJTMLYTJ"
      }
    },
    {
      "cell_type": "markdown",
      "source": [
        "# The map() function executes a specified function for each item in an iterable."
      ],
      "metadata": {
        "id": "7ek6WAiwLZzo"
      }
    },
    {
      "cell_type": "code",
      "source": [
        "def multiply(x):\n",
        "    return x * 2\n",
        "\n",
        "numbers = [1, 2, 3, 4]\n",
        "result = map(multiply, numbers)\n",
        "print(list(result)) # [2, 4, 6, 8]"
      ],
      "metadata": {
        "colab": {
          "base_uri": "https://localhost:8080/"
        },
        "id": "pb4GDAOmLgaw",
        "outputId": "8d7393ee-38a7-4218-8d2c-d68f5bceedfc"
      },
      "execution_count": null,
      "outputs": [
        {
          "output_type": "stream",
          "name": "stdout",
          "text": [
            "[2, 4, 6, 8]\n"
          ]
        }
      ]
    },
    {
      "cell_type": "markdown",
      "source": [
        "# Now with lambda function"
      ],
      "metadata": {
        "id": "Uc7Es5ezLlhY"
      }
    },
    {
      "cell_type": "code",
      "source": [
        "numbers = [1, 2, 3, 4]\n",
        "result = map(lambda x: x * 2, numbers)\n",
        "print(list(result)) # [2, 4, 6, 8]"
      ],
      "metadata": {
        "colab": {
          "base_uri": "https://localhost:8080/"
        },
        "id": "k_a_L7_1Lj64",
        "outputId": "9805850f-e407-4503-db5e-e2a58b0a44d1"
      },
      "execution_count": null,
      "outputs": [
        {
          "output_type": "stream",
          "name": "stdout",
          "text": [
            "[2, 4, 6, 8]\n"
          ]
        }
      ]
    },
    {
      "cell_type": "markdown",
      "source": [
        "# **Filter**"
      ],
      "metadata": {
        "id": "89WCV7sbLpMB"
      }
    },
    {
      "cell_type": "markdown",
      "source": [
        "# Filter creates a list of elements for which a function returns true. The filter() method filters the given sequence with the help of a function that tests each element in the sequence to be true or not."
      ],
      "metadata": {
        "id": "nJy498tdLsPQ"
      }
    },
    {
      "cell_type": "code",
      "source": [
        "result = filter(lambda x: x % 2 == 0, numbers)\n",
        "print(list(result)) # [2, 4, 6]"
      ],
      "metadata": {
        "colab": {
          "base_uri": "https://localhost:8080/"
        },
        "id": "zKCKC6mzLv8Y",
        "outputId": "f86d27c0-87ff-46f6-ef1d-2d6d7222c360"
      },
      "execution_count": null,
      "outputs": [
        {
          "output_type": "stream",
          "name": "stdout",
          "text": [
            "[2, 4]\n"
          ]
        }
      ]
    },
    {
      "cell_type": "markdown",
      "source": [
        "# **Reduce**"
      ],
      "metadata": {
        "id": "dWF26MN2Lyaw"
      }
    },
    {
      "cell_type": "markdown",
      "source": [
        "# **reduce() function is part of the functools module and is used to apply a specific function to a sequence (such as a list or tuple) and reduce it to a single value. It repeatedly applies the given function to the elements of the sequence, accumulating the result, until the entire sequence is processed and a single value is obtained**"
      ],
      "metadata": {
        "id": "YB0u7ZaQL66B"
      }
    },
    {
      "cell_type": "code",
      "source": [
        "from functools import reduce\n",
        "numbers = [1, 2, 3, 4]\n",
        "result = reduce(lambda x, y: x * y, numbers)\n",
        "print(result) # 10"
      ],
      "metadata": {
        "colab": {
          "base_uri": "https://localhost:8080/"
        },
        "id": "tMzG-BoZL-rY",
        "outputId": "072c8885-abb4-437f-f3dd-968728b4f020"
      },
      "execution_count": null,
      "outputs": [
        {
          "output_type": "stream",
          "name": "stdout",
          "text": [
            "24\n"
          ]
        }
      ]
    },
    {
      "cell_type": "markdown",
      "source": [
        "# **Sort and lambda**"
      ],
      "metadata": {
        "id": "LYjRtXF-NLg4"
      }
    },
    {
      "cell_type": "code",
      "source": [
        "a = [(0, 2), (4, 3), (9, 9), (10, -1)]\n",
        "a.sort(key=lambda x: x[1])\n",
        "print(a) # [(10, -1), (0, 2), (4, 3), (9, 9)]"
      ],
      "metadata": {
        "colab": {
          "base_uri": "https://localhost:8080/"
        },
        "id": "ZDBxbM7HNP43",
        "outputId": "a68d6431-b43c-4a6e-dc38-2a514bc8eb81"
      },
      "execution_count": null,
      "outputs": [
        {
          "output_type": "stream",
          "name": "stdout",
          "text": [
            "[(10, -1), (0, 2), (4, 3), (9, 9)]\n"
          ]
        }
      ]
    },
    {
      "cell_type": "markdown",
      "source": [
        "# **Ternary Operator**"
      ],
      "metadata": {
        "id": "S2RyUc67NSyH"
      }
    },
    {
      "cell_type": "markdown",
      "source": [
        "# The ternary operator is a shorthand for an if-else statement. It is used to evaluate a condition and assign a value to a variable based on the condition."
      ],
      "metadata": {
        "id": "eyL2iR3kNb0X"
      }
    },
    {
      "cell_type": "code",
      "source": [
        "a, b = 10, 20\n",
        "minimum = a if a < b else b\n",
        "print(minimum) # 10"
      ],
      "metadata": {
        "colab": {
          "base_uri": "https://localhost:8080/"
        },
        "id": "5UbQSDHaNYZf",
        "outputId": "100f9b26-21fe-4587-de62-dc0be7401dd7"
      },
      "execution_count": null,
      "outputs": [
        {
          "output_type": "stream",
          "name": "stdout",
          "text": [
            "10\n"
          ]
        }
      ]
    },
    {
      "cell_type": "markdown",
      "source": [
        "# **List Comprehension**"
      ],
      "metadata": {
        "id": "aZATxshpNfmo"
      }
    },
    {
      "cell_type": "markdown",
      "source": [
        "# List comprehension is an elegant way to define and create lists based on existing lists."
      ],
      "metadata": {
        "id": "j_A38Rn6NiOY"
      }
    },
    {
      "cell_type": "code",
      "source": [
        "[(x) for x in range(10)] # 0 1 2 3 4 5 6 7 8 9"
      ],
      "metadata": {
        "colab": {
          "base_uri": "https://localhost:8080/"
        },
        "id": "eHfXl4cpNrwQ",
        "outputId": "8831854c-3550-4c9f-da3d-f6257e423d82"
      },
      "execution_count": null,
      "outputs": [
        {
          "output_type": "execute_result",
          "data": {
            "text/plain": [
              "[0, 1, 2, 3, 4, 5, 6, 7, 8, 9]"
            ]
          },
          "metadata": {},
          "execution_count": 11
        }
      ]
    },
    {
      "cell_type": "markdown",
      "source": [
        "# **List Comprehension with If**"
      ],
      "metadata": {
        "id": "C2beuAG_NoKA"
      }
    },
    {
      "cell_type": "code",
      "source": [
        "[(x) for x in range(10) if x % 2 == 0] # 0 2 4 6 8"
      ],
      "metadata": {
        "colab": {
          "base_uri": "https://localhost:8080/"
        },
        "id": "HNvb26A0N1Hv",
        "outputId": "18d60f00-01cd-412e-d140-7dc2de5df9cd"
      },
      "execution_count": null,
      "outputs": [
        {
          "output_type": "execute_result",
          "data": {
            "text/plain": [
              "[0, 2, 4, 6, 8]"
            ]
          },
          "metadata": {},
          "execution_count": 12
        }
      ]
    },
    {
      "cell_type": "markdown",
      "source": [
        "# **List Comprehension with If-Else**"
      ],
      "metadata": {
        "id": "gNlDH4XfN48H"
      }
    },
    {
      "cell_type": "code",
      "source": [
        "[(x) if x % 2 == 0 else ('odd') for x in range(10)] # odd 1 odd 3 odd 5 odd 7 odd 9"
      ],
      "metadata": {
        "colab": {
          "base_uri": "https://localhost:8080/"
        },
        "id": "z0_izne9N7dA",
        "outputId": "d4262c6e-8dd5-455a-b2ec-0b288198411e"
      },
      "execution_count": null,
      "outputs": [
        {
          "output_type": "execute_result",
          "data": {
            "text/plain": [
              "[0, 'odd', 2, 'odd', 4, 'odd', 6, 'odd', 8, 'odd']"
            ]
          },
          "metadata": {},
          "execution_count": 14
        }
      ]
    },
    {
      "cell_type": "markdown",
      "source": [
        "# **Nested List Comprehension**"
      ],
      "metadata": {
        "id": "2fDuSb0oOE84"
      }
    },
    {
      "cell_type": "code",
      "source": [
        "[[(x, y) for x in range(3)] for y in range(3)] # 0 0 1 0 2 0 1 1 1 1 2 1 2 2 2 2"
      ],
      "metadata": {
        "colab": {
          "base_uri": "https://localhost:8080/"
        },
        "id": "hF4DUTWxOHOI",
        "outputId": "e3f018a8-091c-4c10-d816-320eff6a3aae"
      },
      "execution_count": null,
      "outputs": [
        {
          "output_type": "execute_result",
          "data": {
            "text/plain": [
              "[[(0, 0), (1, 0), (2, 0)], [(0, 1), (1, 1), (2, 1)], [(0, 2), (1, 2), (2, 2)]]"
            ]
          },
          "metadata": {},
          "execution_count": 15
        }
      ]
    },
    {
      "cell_type": "markdown",
      "source": [
        "# **Nested for in List Comprehension**"
      ],
      "metadata": {
        "id": "b-eeNGH-OWPx"
      }
    },
    {
      "cell_type": "code",
      "source": [
        "my_list = [[1, 2, 3], [4, 5, 6], [7, 8, 9]]\n",
        "new_list = [num for elem in my_list for num in elem]\n",
        "print(new_list)"
      ],
      "metadata": {
        "colab": {
          "base_uri": "https://localhost:8080/"
        },
        "id": "IuBoV_HVOaJX",
        "outputId": "fc0f891f-c82c-46a4-823c-b961704bdf7d"
      },
      "execution_count": null,
      "outputs": [
        {
          "output_type": "stream",
          "name": "stdout",
          "text": [
            "[1, 2, 3, 4, 5, 6, 7, 8, 9]\n"
          ]
        }
      ]
    },
    {
      "cell_type": "markdown",
      "source": [
        "# **Dictionary Comprehension**"
      ],
      "metadata": {
        "id": "0-4Bn5ASOkm4"
      }
    },
    {
      "cell_type": "markdown",
      "source": [
        "# If Conditional Dictionary Comprehension"
      ],
      "metadata": {
        "id": "jHIDm3UjOyVX"
      }
    },
    {
      "cell_type": "code",
      "source": [
        "original_dict = {'jack': 38, 'michael': 48, 'guido': 57, 'john': 33}\n",
        "\n",
        "even_dict = {k: v for (k, v) in original_dict.items() if v % 2 == 0}\n",
        "print(even_dict)\n"
      ],
      "metadata": {
        "colab": {
          "base_uri": "https://localhost:8080/"
        },
        "id": "Y-C5VwajOlsf",
        "outputId": "eeee9dd7-ba33-4f33-8b3a-064bb2302dad"
      },
      "execution_count": null,
      "outputs": [
        {
          "output_type": "stream",
          "name": "stdout",
          "text": [
            "{'jack': 38, 'michael': 48}\n"
          ]
        }
      ]
    },
    {
      "cell_type": "markdown",
      "source": [
        "# Multiple if Conditional Dictionary Comprehension"
      ],
      "metadata": {
        "id": "bJzNBz95O5a4"
      }
    },
    {
      "cell_type": "code",
      "source": [
        "original_dict = {'jack': 38, 'michael': 48, 'guido': 57, 'john': 33}\n",
        "\n",
        "new_dict = {k: v for (k, v) in original_dict.items() if v % 2 != 0 if v < 40}\n",
        "print(new_dict)\n"
      ],
      "metadata": {
        "colab": {
          "base_uri": "https://localhost:8080/"
        },
        "id": "2QDcmP1CO-uh",
        "outputId": "0c5ca9b9-2741-41ae-ade6-be9cd74b48d9"
      },
      "execution_count": null,
      "outputs": [
        {
          "output_type": "stream",
          "name": "stdout",
          "text": [
            "{'john': 33}\n"
          ]
        }
      ]
    },
    {
      "cell_type": "markdown",
      "source": [
        "# if-else Conditional Dictionary Comprehension"
      ],
      "metadata": {
        "id": "a8d9R0M-PC_P"
      }
    },
    {
      "cell_type": "code",
      "source": [
        "original_dict = {'jack': 38, 'michael': 48, 'guido': 57, 'john': 33}\n",
        "\n",
        "new_dict_1 = {k: ('old' if v > 40 else 'young')\n",
        "    for (k, v) in original_dict.items()}\n",
        "print(new_dict_1)\n",
        "\n"
      ],
      "metadata": {
        "colab": {
          "base_uri": "https://localhost:8080/"
        },
        "id": "bBX90keSPELP",
        "outputId": "d08ef6ea-c75e-46d3-f3ba-1d42d4c5dbaf"
      },
      "execution_count": null,
      "outputs": [
        {
          "output_type": "stream",
          "name": "stdout",
          "text": [
            "{'jack': 'young', 'michael': 'old', 'guido': 'old', 'john': 'young'}\n"
          ]
        }
      ]
    },
    {
      "cell_type": "markdown",
      "source": [
        "# Nested Dictionary with Two Dictionary Comprehensions"
      ],
      "metadata": {
        "id": "SCaIkAqDPHFu"
      }
    },
    {
      "cell_type": "code",
      "source": [
        "dictionary = {\n",
        "    k1: {k2: k1 * k2 for k2 in range(1, 6)} for k1 in range(2, 5)\n",
        "}\n",
        "print(dictionary)\n"
      ],
      "metadata": {
        "colab": {
          "base_uri": "https://localhost:8080/"
        },
        "id": "cFt1xV9YPKGQ",
        "outputId": "819322d4-39e3-4fe0-b452-14d84f7f7d43"
      },
      "execution_count": null,
      "outputs": [
        {
          "output_type": "stream",
          "name": "stdout",
          "text": [
            "{2: {1: 2, 2: 4, 3: 6, 4: 8, 5: 10}, 3: {1: 3, 2: 6, 3: 9, 4: 12, 5: 15}, 4: {1: 4, 2: 8, 3: 12, 4: 16, 5: 20}}\n"
          ]
        }
      ]
    },
    {
      "cell_type": "code",
      "source": [
        "dictionary = dict()\n",
        "for k1 in range(11, 16):\n",
        "    dictionary[k1] = dict()\n",
        "    for k2 in range(1, 6):\n",
        "        dictionary[k1][k2] = k1*k2\n",
        "print(dictionary)\n",
        "\n"
      ],
      "metadata": {
        "id": "CbEsEZEWPSb4",
        "colab": {
          "base_uri": "https://localhost:8080/"
        },
        "outputId": "f388a1b0-17ac-455b-eb56-0adbdda380f4"
      },
      "execution_count": 1,
      "outputs": [
        {
          "output_type": "stream",
          "name": "stdout",
          "text": [
            "{11: {1: 11, 2: 22, 3: 33, 4: 44, 5: 55}, 12: {1: 12, 2: 24, 3: 36, 4: 48, 5: 60}, 13: {1: 13, 2: 26, 3: 39, 4: 52, 5: 65}, 14: {1: 14, 2: 28, 3: 42, 4: 56, 5: 70}, 15: {1: 15, 2: 30, 3: 45, 4: 60, 5: 75}}\n"
          ]
        }
      ]
    },
    {
      "cell_type": "markdown",
      "source": [
        "# **Set Comprehension**"
      ],
      "metadata": {
        "id": "WjBXzTadgfoa"
      }
    },
    {
      "cell_type": "code",
      "source": [
        "squares = {x * x for x in [1, 1, 2]}\n",
        "print(squares) # {1, 4}"
      ],
      "metadata": {
        "id": "f6MZm5glghD6"
      },
      "execution_count": null,
      "outputs": []
    },
    {
      "cell_type": "markdown",
      "source": [],
      "metadata": {
        "id": "aA5BXAIdPP9u"
      }
    }
  ]
}