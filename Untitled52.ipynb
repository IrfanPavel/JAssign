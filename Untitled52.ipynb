{
  "nbformat": 4,
  "nbformat_minor": 0,
  "metadata": {
    "colab": {
      "provenance": [],
      "authorship_tag": "ABX9TyNb97Ub+pvIZHB50XoNMzJD",
      "include_colab_link": true
    },
    "kernelspec": {
      "name": "python3",
      "display_name": "Python 3"
    },
    "language_info": {
      "name": "python"
    }
  },
  "cells": [
    {
      "cell_type": "markdown",
      "metadata": {
        "id": "view-in-github",
        "colab_type": "text"
      },
      "source": [
        "<a href=\"https://colab.research.google.com/github/IrfanPavel/Jassign/blob/main/Untitled52.ipynb\" target=\"_parent\"><img src=\"https://colab.research.google.com/assets/colab-badge.svg\" alt=\"Open In Colab\"/></a>"
      ]
    },
    {
      "cell_type": "code",
      "execution_count": 6,
      "metadata": {
        "id": "dNGG8CT-pnkr"
      },
      "outputs": [],
      "source": [
        "import math\n",
        "\n",
        "def quadratic_formula(a, b, c):\n",
        "    discriminant = b**2 - 4*a*c\n",
        "    if discriminant < 0:\n",
        "        return \"The equation has no real roots.\"\n",
        "    else:\n",
        "        discriminant = math.sqrt(discriminant)\n",
        "        root1 = (-b + discriminant) / (2 * a)\n",
        "        root2 = (-b - discriminant) / (2 * a)\n",
        "        return (root1, root2)"
      ]
    },
    {
      "cell_type": "markdown",
      "source": [
        "To verify the correctness, we can test the function with the example values of a = 2, b = -3, and c = 12:"
      ],
      "metadata": {
        "id": "pR5r-hN3q80Y"
      }
    },
    {
      "cell_type": "code",
      "source": [
        "a = 2\n",
        "b = -3\n",
        "c = 12\n",
        "quadratic_formula(a, b, c)\n",
        "\n"
      ],
      "metadata": {
        "colab": {
          "base_uri": "https://localhost:8080/",
          "height": 36
        },
        "id": "owAEtuZWpsPq",
        "outputId": "cc3d6de1-4d66-4f22-81e3-460727cdcb56"
      },
      "execution_count": 7,
      "outputs": [
        {
          "output_type": "execute_result",
          "data": {
            "text/plain": [
              "'The equation has no real roots.'"
            ],
            "application/vnd.google.colaboratory.intrinsic+json": {
              "type": "string"
            }
          },
          "metadata": {},
          "execution_count": 7
        }
      ]
    },
    {
      "cell_type": "markdown",
      "source": [
        "# **To test for round-off errors, we can use cases where b^2 >> 4ac. For example, a = 1, b = 10^6, and c = 1:**"
      ],
      "metadata": {
        "id": "fIKUc-JLq_zp"
      }
    },
    {
      "cell_type": "code",
      "source": [
        "a = 1\n",
        "b = 10**6\n",
        "c = 1\n",
        "quadratic_formula(a, b, c)"
      ],
      "metadata": {
        "colab": {
          "base_uri": "https://localhost:8080/"
        },
        "id": "cxNqOpmKq7PS",
        "outputId": "9a8d2349-2a50-4459-9cda-daf18af83195"
      },
      "execution_count": 8,
      "outputs": [
        {
          "output_type": "execute_result",
          "data": {
            "text/plain": [
              "(-1.00000761449337e-06, -999999.999999)"
            ]
          },
          "metadata": {},
          "execution_count": 8
        }
      ]
    },
    {
      "cell_type": "markdown",
      "source": [
        "The quadratic formula is a well-established mathematical formula and its results should be correct. However, the results can be subject to round-off errors as seen in the above test case. To compare with the Python fsolve function from the scipy library, we need to first install scipy by running pip install scipy. Then, we can use fsolve as follows:"
      ],
      "metadata": {
        "id": "snYQX1vkrLKy"
      }
    },
    {
      "cell_type": "code",
      "source": [
        "from scipy.optimize import fsolve\n",
        "\n",
        "def equation(x, a, b, c):\n",
        "    return a*x**2 + b*x + c\n",
        "\n",
        "def compare_with_fsolve(a, b, c):\n",
        "    root1, info, ier, mesg = fsolve(equation, x0=0, args=(a, b, c), full_output=True)\n",
        "    root2, info, ier, mesg = fsolve(equation, x0=1, args=(a, b, c), full_output=True)\n",
        "    return (root1[0], root2[0])"
      ],
      "metadata": {
        "id": "FZzBeDS3rQCJ"
      },
      "execution_count": 9,
      "outputs": []
    },
    {
      "cell_type": "code",
      "source": [
        "a = 2\n",
        "b = -3\n",
        "c = 12\n",
        "\n",
        "compare_with_fsolve(a, b, c)"
      ],
      "metadata": {
        "colab": {
          "base_uri": "https://localhost:8080/"
        },
        "id": "_YJo3bNNrVw5",
        "outputId": "c7d412d5-0eb7-487b-89b6-3ff6d84230dd"
      },
      "execution_count": 10,
      "outputs": [
        {
          "output_type": "execute_result",
          "data": {
            "text/plain": [
              "(0.7500000000016357, 0.7503720238100943)"
            ]
          },
          "metadata": {},
          "execution_count": 10
        }
      ]
    },
    {
      "cell_type": "markdown",
      "source": [
        "# **QSTN 2**"
      ],
      "metadata": {
        "id": "qRKubBbvrfHP"
      }
    },
    {
      "cell_type": "markdown",
      "source": [
        "Cousider the linear system suggested by R.V, Andree , x+5y=17,  1.5x+7.501y=25.503\n",
        "\n",
        " \n",
        "\n",
        "1. Solve the system by both np.linalg.solve and np.linalg.inv(A)*b.\n",
        "\n",
        "2.Change right hand side of the second equation to 25.01,25.02,25.04 and redo 1.\n",
        "What do you observe and what is the reason?\n",
        "\n",
        "3, Compute the determinant and condition number of the matrix A associated with\n",
        "the linear system.\n",
        "\n",
        "4. How about changing 7.501 to 7.502?\n"
      ],
      "metadata": {
        "id": "NvUFPmTXrjqu"
      }
    },
    {
      "cell_type": "markdown",
      "source": [
        "# To solve the linear system Ax = b using numpy, you can use either numpy.linalg.solve or numpy.linalg.inv(A) @ b. Here is an example in Python"
      ],
      "metadata": {
        "id": "wkurBhAssy4i"
      }
    },
    {
      "cell_type": "code",
      "source": [
        "import numpy as np\n",
        "\n",
        "A = np.array([[1, 5], [1.5, 7.501]])\n",
        "b = np.array([17, 25.503])\n",
        "\n",
        "# Solution using numpy.linalg.solve\n",
        "x = np.linalg.solve(A, b)\n",
        "\n",
        "# Solution using numpy.linalg.inv(A) @ b\n",
        "x = np.linalg.inv(A) @ b\n"
      ],
      "metadata": {
        "id": "3kUnHKNPssy9"
      },
      "execution_count": 11,
      "outputs": []
    },
    {
      "cell_type": "markdown",
      "source": [
        "2.When the right-hand side of the second equation is changed to 25.01, 25.02, 25.04, the solution of the linear system changes as well. This is because the right-hand side b of the linear system is part of the definition of the problem, and changing it changes the problem itself. The numerical values of the solution x will be different for each different value of b.\n",
        "\n",
        "3.The determinant of the matrix A can be computed using numpy.linalg.det(A). The condition number of A can be computed using numpy.linalg.cond(A). The determinant and condition number give information about the stability of the solution to the linear system Ax = b. A large condition number indicates that the solution is sensitive to small perturbations in b, which can lead to large errors in the solution x.\n",
        "\n",
        "4.If 7.501 is changed to 7.502, the matrix A will change and the solution to the linear system will change as well. This is because the elements of the matrix A are part of the definition of the problem, and changing them changes the problem itself. The numerical values of the solution x will be different for the different value of A"
      ],
      "metadata": {
        "id": "bBrkaXHbs9K_"
      }
    },
    {
      "cell_type": "markdown",
      "source": [
        "The probability of a random point (x,y), x, y ∈ [0,1] being inside the\n",
        "first quadrant of a unit circle is π/4. Use this fact to estimate π with n random points,\n",
        "say πn. Plot the errors π - πn | verses h = 1/n in a log-log plot. Explain the meaning of the slope."
      ],
      "metadata": {
        "id": "_PE0rKV9tBL9"
      }
    },
    {
      "cell_type": "markdown",
      "source": [
        "Solution: \n",
        "\n",
        "To estimate the value of π using random points, we can use the following steps:\n",
        "\n",
        "Generate n random points (x, y) where x and y are uniformly distributed in the interval [0, 1].\n",
        "\n",
        "For each point (x, y), calculate the distance from the origin d = sqrt(x^2 + y^2). If the distance is less than or equal to 1, the point is inside the unit circle.\n",
        "\n",
        "\n",
        "Calculate the absolute error as |π - πn| for each value of n.\n",
        "\n",
        "Plot the errors |π - πn| verses h = 1/n in a log-log plot. The slope of the plot will give information about the convergence rate of the estimate of π as the number of points n increases. If the slope is -1, the estimate converges linearly, if the slope is -2, the estimate converges quadratically, and so on."
      ],
      "metadata": {
        "id": "g9wJVwoMuWwM"
      }
    },
    {
      "cell_type": "code",
      "source": [
        "import numpy as np\n",
        "import matplotlib.pyplot as plt\n",
        "\n",
        "np.random.seed(0) # set the random seed for reproducibility\n",
        "n = 1000 # number of points\n",
        "\n",
        "# generate random points\n",
        "x = np.random.uniform(0, 1, n)\n",
        "y = np.random.uniform(0, 1, n)\n",
        "\n",
        "# calculate the distances from the origin\n",
        "d = np.sqrt(x**2 + y**2)\n",
        "\n",
        "# count the number of points inside the unit circle\n",
        "count = np.sum(d <= 1)\n",
        "\n",
        "# calculate the estimate of π\n",
        "πn = 4 * count / n\n",
        "\n",
        "# calculate the absolute error\n",
        "error = np.abs(np.pi - πn)\n",
        "\n",
        "# plot the log-log plot of the error\n",
        "h = 1 / n\n",
        "plt.loglog(h, error, '-o')\n",
        "plt.xlabel('h = 1/n')\n",
        "plt.ylabel('|π - πn|')\n",
        "plt.show()\n"
      ],
      "metadata": {
        "colab": {
          "base_uri": "https://localhost:8080/",
          "height": 283
        },
        "id": "5Ubgi8Cfuhtw",
        "outputId": "27552dd7-e75f-4589-95ab-463feabc73c1"
      },
      "execution_count": 14,
      "outputs": [
        {
          "output_type": "display_data",
          "data": {
            "text/plain": [
              "<Figure size 432x288 with 1 Axes>"
            ],
            "image/png": "[encoded data removed]"
          },
          "metadata": {
            "needs_background": "light"
          }
        }
      ]
    },
    {
      "cell_type": "markdown",
      "source": [
        "The slope of the log-log plot of the error |π - πn| verses h = 1/n gives information about the convergence rate of the estimate of π as the number of points n increases.\n",
        "\n",
        "In general, if the slope of the log-log plot is -p, it means that the error converges as h^p as h = 1/n approaches 0. So, the higher the slope, the faster the convergence rate.\n",
        "\n",
        "For example, if the slope of the log-log plot is -1, the error converges linearly, meaning that the error decreases by a constant factor as the number of points increases. If the slope is -2, the error converges quadratically, meaning that the error decreases by a factor proportional to the square of the number of points.\n",
        "\n",
        "The slope of the log-log plot can also help to determine the order of accuracy of a numerical method. In the case of the estimation of π using random points, the slope indicates the rate at which the error decreases as the number of points increases, providing insight into the performance of the method."
      ],
      "metadata": {
        "id": "WPxYGhv1u7Zz"
      }
    },
    {
      "cell_type": "code",
      "source": [],
      "metadata": {
        "id": "2Mp-YGwgu7NH"
      },
      "execution_count": null,
      "outputs": []
    }
  ]
}